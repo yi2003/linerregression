{
  "nbformat": 4,
  "nbformat_minor": 0,
  "metadata": {
    "colab": {
      "provenance": [],
      "authorship_tag": "ABX9TyMtsHus8IFFTgoP9kjZCUad",
      "include_colab_link": true
    },
    "kernelspec": {
      "name": "python3",
      "display_name": "Python 3"
    },
    "language_info": {
      "name": "python"
    }
  },
  "cells": [
    {
      "cell_type": "markdown",
      "metadata": {
        "id": "view-in-github",
        "colab_type": "text"
      },
      "source": [
        "<a href=\"https://colab.research.google.com/github/yi2003/linerregression/blob/master/generate_insert_sql.ipynb\" target=\"_parent\"><img src=\"https://colab.research.google.com/assets/colab-badge.svg\" alt=\"Open In Colab\"/></a>"
      ]
    },
    {
      "cell_type": "code",
      "source": [
        "csv_file_dic = \"DIC.csv\"\n",
        "df_dic = pd.read_csv(csv_file_dic)\n",
        "\n",
        "# Create a dictionary to map department codes to carriers\n",
        "department_carrier_mapping = dict(zip(df_dic['DepartmentCode'], df_dic['Carrier']))\n",
        "\n",
        "def get_carrier_by_department_code(department_code):\n",
        "    return department_carrier_mapping.get(department_code, \"Carrier not found\")\n",
        "\n",
        "# Example usage:\n",
        "department_code = '50'\n",
        "carrier = get_carrier_by_department_code(department_code)\n",
        "print(f\"The carrier for department code {department_code} is {carrier}\")\n"
      ],
      "metadata": {
        "colab": {
          "base_uri": "https://localhost:8080/"
        },
        "id": "I5RVIajlz6Bu",
        "outputId": "3b6aaec9-e56d-4f17-c548-6c48ede3afcb"
      },
      "execution_count": 19,
      "outputs": [
        {
          "output_type": "stream",
          "name": "stdout",
          "text": [
            "The carrier for department code 50 is CMA\n"
          ]
        }
      ]
    },
    {
      "cell_type": "code",
      "source": [
        "import pandas as pd\n",
        "import json\n",
        "\n",
        "csv_file = \"new.csv\"\n",
        "dtype_mapping = {col: str for col in pd.read_csv(csv_file, nrows=1)}\n",
        "\n",
        "df = pd.read_csv(csv_file, dtype=dtype_mapping)\n",
        "\n",
        "\n",
        "\n",
        "json_data_list = []\n",
        "for index, row in df.iterrows():\n",
        "  #print(row)\n",
        "  json_data = row.to_dict()\n",
        "    # Rename the key 'department_Code' to 'departmentcode'\n",
        "  json_data['InvoiceNumber'] = json_data.pop('INVOICENUMBER')\n",
        "\n",
        "\n",
        "  json_data['Status'] = json_data.pop('STATUS')\n",
        "  json_data['Currency'] = json_data.pop('CURRENCY')\n",
        "  json_data['NetAmount'] = json_data['NETAMOUNT']\n",
        "  json_data['TotalAmount'] = json_data['TOTALAMOUNT']\n",
        "  json_data['OriginInvoice'] = json_data.pop('ORIGININVOICE')\n",
        "\n",
        "  json_data['InvoiceType'] = json_data.pop('INVOICETYPE')\n",
        "  json_data['InvoiceSubType'] = json_data.pop('INVOICESUBTYPE')\n",
        "  json_data['InvoiceDomain'] = json_data.pop('INVOICEDOMIN')\n",
        "  json_data['Direction'] = json_data.pop('DIRECTION')\n",
        "\n",
        "  json_data['PayeeDepartmentCode'] = json_data.pop('PAYEEDEPARTMENTCODE')\n",
        "  json_data['Carrier']= get_carrier_by_department_code(json_data['PayeeDepartmentCode'])\n",
        "  json_data['BrandCode'] = json_data.pop('BRANDCODE')\n",
        "  json_data['PayableAt'] = json_data.pop('PAYABLEAT')\n",
        "  json_data['PayableTo'] = json_data.pop('PAYABLETO')\n",
        "  json_data['PayableToName'] = json_data.pop('PAYABLETONAME')\n",
        "  json_data['PayerPartnerCode'] = json_data.pop('PAYERPARTNERCODE')\n",
        "\n",
        "  json_data['PayerPartnerShortName'] = json_data.pop('PAYERPARTNERSHORTNAME')\n",
        "  json_data['PayerPartnerFullName'] = json_data.pop('PAYERPARTNERFULLNAME')\n",
        "  json_data['EmailAddresses'] = json_data.pop('EMAILADDRESSES')\n",
        "  json_data['InvoiceDate'] = json_data.pop('INVOICEDATE')\n",
        "\n",
        "  json_data['InvoiceDueDate'] = json_data.pop('INVOICEDUEDATE')\n",
        "  json_data['BookingNumber'] = json_data.pop('BOOKINGNUMBER')\n",
        "  json_data['BLNumber'] = json_data.pop('BLNUMBER')\n",
        "  json_data['POLCode'] = json_data.pop('POLCODE')\n",
        "  json_data['POLName'] = json_data.pop('POLNAME')\n",
        "  json_data['PODCode'] = json_data.pop('PODCODE')\n",
        "  json_data['PODName'] = json_data.pop('PODNAME')\n",
        "  json_data['DATEOFCALL'] = json_data.pop('DATEOFCALL')\n",
        "  json_data['VoyageReference'] = json_data.pop('VOYAGEREFERENCE')\n",
        "  json_data['CUPTESETTLEMETHOD'] = json_data.pop('CUPTESETTLEMETHOD')\n",
        "  json_data['PrincipalPartnerCode'] = json_data.pop('PRINCIPALPARTNERCODE')\n",
        "\n",
        "  json_data['InvoiceMode'] = json_data.pop('INVOICEDOMIN_1')\n",
        "\n",
        "  for key, value in json_data.items():\n",
        "      if pd.isna(value):\n",
        "          json_data[key] = \"\"\n",
        "\n",
        "  print(json_data)\n",
        "\n",
        "  id = \"newid()\"\n",
        "  invoicenumber=json_data['InvoiceNumber']\n",
        "  status = json_data['Status']\n",
        "  currency =  json_data['Currency']\n",
        "\n",
        "  insertscript=f\"insert into biz_tinvoice(id,invoicenumber,status,currency, \\\n",
        "  netamount,\\\n",
        "  totalamount,\\\n",
        "  origininvoice,\\\n",
        "  reversalflag, \\\n",
        "  invoicetype, \\\n",
        "  invoicesubtype,\\\n",
        "  invoicedomain,\\\n",
        "  direction,\\\n",
        "  PayeeDepartmentCode,\\\n",
        "  brandcode, \\\n",
        "  carrier,\\\n",
        "  payableat,\\\n",
        "  payableto,\\\n",
        "  payabletoname,\\\n",
        "  PayerPartnershortName,\\\n",
        "  PayerPartnerFullName,\\\n",
        "  PayerPartnerCode,\\\n",
        "  emailaddresses, \\\n",
        "  invoicedate,\\\n",
        "  InvoiceDueDate,\\\n",
        "  BookingNumber,\\\n",
        "  BLNumber,\\\n",
        "  POLCode,\\\n",
        "  POLName,\\\n",
        "  PODCode,\\\n",
        "  PODName,\\\n",
        "  DATEOFCALL,\\\n",
        "  VoyageReference,\\\n",
        "  CUPTESETTLEMETHOD,\\\n",
        "  InvoiceMode,\\\n",
        "  PrincipalPartnerCode,\\\n",
        "  deleteflag,\\\n",
        "  ismanual,createuser,createdatetime,updateuser,updatedatetime)\\\n",
        "  values({id},\\\n",
        "  '{invoicenumber}',\\\n",
        "  '{status}',\\\n",
        "  '{currency}',\\\n",
        "  '{json_data['NetAmount']}',\\\n",
        "  '{json_data['TotalAmount']}',\\\n",
        "  '{json_data['OriginInvoice']}',\\\n",
        "  null,\\\n",
        "  '{json_data['InvoiceType']}', \\\n",
        "  '{json_data['InvoiceSubType']}', \\\n",
        "  '{json_data['InvoiceDomain']}', \\\n",
        "  '{json_data['Direction']}', \\\n",
        "  '{json_data['PayeeDepartmentCode']}', \\\n",
        "  '{json_data['BrandCode']}', \\\n",
        "  '{json_data['Carrier']}', \\\n",
        "  '{json_data['PayableAt']}', \\\n",
        "  '{json_data['PayableTo']}', \\\n",
        "  '{json_data['PayableToName']}', \\\n",
        "  '{json_data['PayerPartnerShortName']}', \\\n",
        "  '{json_data['PayerPartnerFullName']}', \\\n",
        "  '{json_data['PayerPartnerCode']}', \\\n",
        "  '{json_data['EmailAddresses']}', \\\n",
        "  '{json_data['InvoiceDate']}', \\\n",
        "  '{json_data['InvoiceDueDate']}', \\\n",
        "  '{json_data['BookingNumber']}', \\\n",
        "  '{json_data['BLNumber']}', \\\n",
        "  '{json_data['POLCode']}', \\\n",
        "  '{json_data['POLName']}', \\\n",
        "  '{json_data['PODCode']}', \\\n",
        "  '{json_data['PODName']}', \\\n",
        "  '{json_data['DATEOFCALL']}', \\\n",
        "  '{json_data['VoyageReference']}', \\\n",
        "  '{json_data['CUPTESETTLEMETHOD']}', \\\n",
        "  '{json_data['InvoiceMode']}', \\\n",
        "  '{json_data['PrincipalPartnerCode']}',\\\n",
        "  0,\\\n",
        "  0,'ThunderLaraInvoiceService',getdate(),'ThunderLaraInvoiceService',getdate())\"\n",
        "  #print(index)\n",
        "  json_data_list.append(insertscript)\n",
        "\n",
        "json_file = \"output.txt\"\n",
        "#print(json_data_list)\n",
        "with open(json_file, \"w\") as file:\n",
        "  for i, string in enumerate(json_data_list):\n",
        "      #print(string)\n",
        "      file.write(string+ '\\n')\n",
        "\n",
        "#print(\"All strings have been saved to files.\")\n"
      ],
      "metadata": {
        "colab": {
          "base_uri": "https://localhost:8080/"
        },
        "id": "Td8jnHcJoMV7",
        "outputId": "4ca1fa71-eddb-4aed-f3e3-952fe0e259a0"
      },
      "execution_count": 20,
      "outputs": [
        {
          "output_type": "stream",
          "name": "stdout",
          "text": [
            "{'NETAMOUNT': '1290', 'TAXRATE': '', 'TOTALAMOUNT': '1290', 'REVERSALFALG': '', 'GROUPINVOICENUMBER': '', 'CHINATAXINVOICENUMBER': '', 'CARRIER': '', 'PAYABLEAT_1': 'CNCAN - GUANGZHOU - CHINA', 'PAYERPARTNERWEBUSER': '', 'VESSELREFERENCE': 'ZH937-ZHONG HANG 937', 'EXCHAGERATE': '', 'INVOICEMENTIONS': '', 'ADJUSTMENTFLAG': '', 'DEPOSITFLAG': 'N', 'INVOICESOURCE': '', 'PAYMENTSTATUS': '0', 'PAYMENTBY': '', 'PAYMENTDATE': '', 'PAYMENTMANUAL': '', 'PAYMENTREMARK': '', 'LOCKBYDUMMYCANCEL': '0', 'ISREB70': '0', 'NEWINVOICEREQUIRED': '', 'NEWINVOICENUMBER': '', 'REERVATIONFROMWEB': '', 'ADDITIONALREMARK': '', 'ISNCCONLY': '', 'BANKACCOUNTNAME': '', 'INSIHCHGGROUP': '', 'DELETEFLAG': '0', 'CREATEUSER': 'ELCAI', 'CREATEDATETIME': '10/14/2023 10:00 AM', 'UPDATEUSER': 'ELCAI', 'UPDATEDATETIME': '10/14/2023 10:00 AM', 'CANCELLOCKEDTIME': '', 'InvoiceNumber': 'GZDES004657', 'Status': '6', 'Currency': 'CNY', 'NetAmount': '1290', 'TotalAmount': '1290', 'OriginInvoice': 'GZDES004657', 'InvoiceType': 'I', 'InvoiceSubType': 'E', 'InvoiceDomain': 'SHIP', 'Direction': 'E', 'PayeeDepartmentCode': '906', 'Carrier': 'ANL', 'BrandCode': 'ANLS', 'PayableAt': 'CNCAN - GUANGZHOU - CHINA', 'PayableTo': '0001828893', 'PayableToName': 'CMA CGM GUANGZHOU', 'PayerPartnerCode': '0000795509', 'PayerPartnerShortName': 'MONDIALE VGL SHANGHAI LIMITED', 'PayerPartnerFullName': 'MONDIALE VGL SHANGHAI LIMITED', 'EmailAddresses': '', 'InvoiceDate': '10/14/2023', 'InvoiceDueDate': '10/14/2023', 'BookingNumber': 'AAV0133849', 'BLNumber': 'AAV0133849', 'POLCode': 'CNZSN', 'POLName': 'ZHONGSHAN', 'PODCode': 'CNZSN', 'PODName': 'ZHONGSHAN', 'DATEOFCALL': '10/12/2023', 'VoyageReference': '0OK3INANL', 'CUPTESETTLEMETHOD': 'A', 'PrincipalPartnerCode': '0000938455', 'InvoiceMode': 'CNGTE'}\n",
            "{'NETAMOUNT': '1290', 'TAXRATE': '', 'TOTALAMOUNT': '1290', 'REVERSALFALG': '', 'GROUPINVOICENUMBER': '', 'CHINATAXINVOICENUMBER': '', 'CARRIER': '', 'PAYABLEAT_1': 'CNCAN - GUANGZHOU - CHINA', 'PAYERPARTNERWEBUSER': '', 'VESSELREFERENCE': 'HNB19-HUAN BAO 19', 'EXCHAGERATE': '', 'INVOICEMENTIONS': '', 'ADJUSTMENTFLAG': '', 'DEPOSITFLAG': 'N', 'INVOICESOURCE': '', 'PAYMENTSTATUS': '0', 'PAYMENTBY': '', 'PAYMENTDATE': '', 'PAYMENTMANUAL': '', 'PAYMENTREMARK': '', 'LOCKBYDUMMYCANCEL': '0', 'ISREB70': '0', 'NEWINVOICEREQUIRED': '', 'NEWINVOICENUMBER': '', 'REERVATIONFROMWEB': '', 'ADDITIONALREMARK': '', 'ISNCCONLY': '', 'BANKACCOUNTNAME': '', 'INSIHCHGGROUP': '', 'DELETEFLAG': '0', 'CREATEUSER': 'ELCAI', 'CREATEDATETIME': '10/14/2023 10:01 AM', 'UPDATEUSER': 'ELCAI', 'UPDATEDATETIME': '10/14/2023 10:01 AM', 'CANCELLOCKEDTIME': '', 'InvoiceNumber': 'GZDES004658', 'Status': '6', 'Currency': 'CNY', 'NetAmount': '1290', 'TotalAmount': '1290', 'OriginInvoice': 'GZDES004658', 'InvoiceType': 'I', 'InvoiceSubType': 'E', 'InvoiceDomain': 'SHIP', 'Direction': 'E', 'PayeeDepartmentCode': '906', 'Carrier': 'ANL', 'BrandCode': 'ANLS', 'PayableAt': 'CNCAN - GUANGZHOU - CHINA', 'PayableTo': '0001828893', 'PayableToName': 'CMA CGM GUANGZHOU', 'PayerPartnerCode': '0000795509', 'PayerPartnerShortName': 'MONDIALE VGL SHANGHAI LIMITED', 'PayerPartnerFullName': 'MONDIALE VGL SHANGHAI LIMITED', 'EmailAddresses': '', 'InvoiceDate': '10/14/2023', 'InvoiceDueDate': '10/14/2023', 'BookingNumber': 'AAV0134037', 'BLNumber': 'AAV0134037', 'POLCode': 'CNSUD', 'POLName': 'SHUNDE', 'PODCode': 'CNSUD', 'PODName': 'SHUNDE', 'DATEOFCALL': '10/12/2023', 'VoyageReference': 'ZXJ3INANL', 'CUPTESETTLEMETHOD': 'A', 'PrincipalPartnerCode': '0000938455', 'InvoiceMode': 'CNGTE'}\n"
          ]
        }
      ]
    },
    {
      "cell_type": "code",
      "source": [],
      "metadata": {
        "id": "06XiMCPI_zCi"
      },
      "execution_count": null,
      "outputs": []
    }
  ]
}